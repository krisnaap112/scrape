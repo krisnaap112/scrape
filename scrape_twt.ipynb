{
  "nbformat": 4,
  "nbformat_minor": 0,
  "metadata": {
    "colab": {
      "provenance": []
    },
    "kernelspec": {
      "name": "python3",
      "display_name": "Python 3"
    }
  },
  "cells": [
    {
      "cell_type": "markdown",
      "source": [
        "# ***lib***"
      ],
      "metadata": {
        "id": "FXWMBDhjPgz5"
      }
    },
    {
      "cell_type": "code",
      "source": [
        "import pandas as pd\n",
        "import numpy as np\n",
        "import csv\n",
        "import tweepy\n",
        "from google.colab import files"
      ],
      "metadata": {
        "id": "zspiNIKYPrl1"
      },
      "execution_count": 1,
      "outputs": []
    },
    {
      "cell_type": "markdown",
      "source": [
        "# ***get data***"
      ],
      "metadata": {
        "id": "WMTUKmFePiPP"
      }
    },
    {
      "cell_type": "code",
      "metadata": {
        "colab": {
          "base_uri": "https://localhost:8080/",
          "height": 47
        },
        "id": "olPYCFl6y67Q",
        "outputId": "a19d9da8-3719-40b4-f725-831013c77466"
      },
      "source": [
        "# in utf8\n",
        "\n",
        "access_token = \"1303649537559412736-dfVRmHCQlTIgMp8ts8MmcqzglWPURN\"\n",
        "access_token_secret = \"KQTmmbgyTYFuwMeWzvmWjleh0xUPoqH8FrVJzOGtXy7xR\"\n",
        "api_key = \"fijfuqE0xexlGgKPH05RN6RDw\"\n",
        "api_key_secret = \"bkfvwagWRbmEgZoN0qknkqAIQYhPARE51z1hutZs7cu5qYD4ea\"\n",
        "\n",
        "auth = tweepy.OAuthHandler(api_key,api_key_secret)\n",
        "auth.set_access_token(access_token,access_token_secret)\n",
        "api = tweepy.API(auth,wait_on_rate_limit=True)\n",
        "search_key= \"ekonomi\"\n",
        "\n",
        "csvFile= open(search_key+\" .csv\",\"a+\",newline=\"\",encoding=\"utf-8\")\n",
        "csvWriter= csv.writer(csvFile)\n",
        "c = []\n",
        "i = []\n",
        "u = []\n",
        "t = []\n",
        "s = []\n",
        "\n",
        "for tweet in tweepy.Cursor(api.search,q=search_key,count=10,lang=\"id\", since=\"2021-03-24\", until=\"2021-03-25\").items():\n",
        "    print(tweet.created_at,tweet.id,tweet.user.name,tweet.text)\n",
        "    c.append(tweet.created_at)\n",
        "    i.append(tweet.id)\n",
        "    u.append(tweet.user.name)\n",
        "    t.append(tweet.text.encode(\"utf-8\"))\n",
        "    s.append(tweet.user.location)\n",
        "    tweets= [tweet.created_at,tweet.id,tweet.user.name,tweet.text.encode(\"utf-8\"),tweet.user.location]\n",
        "    csvWriter.writerow(tweets)\n",
        "\n",
        "dictTweets = {\"waktu\":c,\"id\":i,\"username\":u,\"teks\":t,\"lokasi\":s}\n",
        "df = pd.DataFrame(dictTweets,columns=[\"waktu\",\"id\",\"username\",\"teks\",\"lokasi\"])\n",
        "df"
      ],
      "execution_count": null,
      "outputs": [
        {
          "output_type": "execute_result",
          "data": {
            "text/html": [
              "<div>\n",
              "<style scoped>\n",
              "    .dataframe tbody tr th:only-of-type {\n",
              "        vertical-align: middle;\n",
              "    }\n",
              "\n",
              "    .dataframe tbody tr th {\n",
              "        vertical-align: top;\n",
              "    }\n",
              "\n",
              "    .dataframe thead th {\n",
              "        text-align: right;\n",
              "    }\n",
              "</style>\n",
              "<table border=\"1\" class=\"dataframe\">\n",
              "  <thead>\n",
              "    <tr style=\"text-align: right;\">\n",
              "      <th></th>\n",
              "      <th>waktu</th>\n",
              "      <th>id</th>\n",
              "      <th>username</th>\n",
              "      <th>teks</th>\n",
              "      <th>lokasi</th>\n",
              "    </tr>\n",
              "  </thead>\n",
              "  <tbody>\n",
              "  </tbody>\n",
              "</table>\n",
              "</div>"
            ],
            "text/plain": [
              "Empty DataFrame\n",
              "Columns: [waktu, id, username, teks, lokasi]\n",
              "Index: []"
            ]
          },
          "metadata": {
            "tags": []
          },
          "execution_count": 2
        }
      ]
    },
    {
      "cell_type": "code",
      "metadata": {
        "id": "ww6uhBBRwmz1"
      },
      "source": [
        "pip install snscrape"
      ],
      "execution_count": null,
      "outputs": []
    },
    {
      "cell_type": "code",
      "metadata": {
        "id": "aKLnWmV_wjSI"
      },
      "source": [
        "import snscrape.modules.twitter as sntwitter\n",
        "\n",
        "# Append tweet with list\n",
        "listtext = []\n",
        "\n",
        "# Append use tweetscraper\n",
        "for i,tweet in enumerate(sntwitter.TwitterSearchScraper('your key here since:2021-01-01 until:2021-04-12').get_items()):\n",
        "    if i>100000:\n",
        "        break\n",
        "    listtext.append([tweet.date, tweet.id, tweet.username, tweet.content.encode(\"utf-8\")])\n",
        "\n",
        "# into dataframe\n",
        "tweets_df_a = pd.DataFrame(listtext, columns=['Created_At', 'Tweet_Id', 'Username' , 'Text'])"
      ],
      "execution_count": null,
      "outputs": []
    },
    {
      "cell_type": "code",
      "metadata": {
        "id": "9z6QyMJ7xVFG"
      },
      "source": [
        "tweets_df_a.value_counts()"
      ],
      "execution_count": null,
      "outputs": []
    },
    {
      "cell_type": "code",
      "metadata": {
        "colab": {
          "base_uri": "https://localhost:8080/",
          "height": 17
        },
        "id": "iW8b-Af0xxtm",
        "outputId": "953314d8-3928-4b9f-9435-39a667b65e8c"
      },
      "source": [
        "tweets_df_a.to_csv('tweetsekolah_offline.csv')\n",
        "files.download('tweetsekolah_offline.csv')"
      ],
      "execution_count": null,
      "outputs": [
        {
          "output_type": "display_data",
          "data": {
            "application/javascript": [
              "\n",
              "    async function download(id, filename, size) {\n",
              "      if (!google.colab.kernel.accessAllowed) {\n",
              "        return;\n",
              "      }\n",
              "      const div = document.createElement('div');\n",
              "      const label = document.createElement('label');\n",
              "      label.textContent = `Downloading \"${filename}\": `;\n",
              "      div.appendChild(label);\n",
              "      const progress = document.createElement('progress');\n",
              "      progress.max = size;\n",
              "      div.appendChild(progress);\n",
              "      document.body.appendChild(div);\n",
              "\n",
              "      const buffers = [];\n",
              "      let downloaded = 0;\n",
              "\n",
              "      const channel = await google.colab.kernel.comms.open(id);\n",
              "      // Send a message to notify the kernel that we're ready.\n",
              "      channel.send({})\n",
              "\n",
              "      for await (const message of channel.messages) {\n",
              "        // Send a message to notify the kernel that we're ready.\n",
              "        channel.send({})\n",
              "        if (message.buffers) {\n",
              "          for (const buffer of message.buffers) {\n",
              "            buffers.push(buffer);\n",
              "            downloaded += buffer.byteLength;\n",
              "            progress.value = downloaded;\n",
              "          }\n",
              "        }\n",
              "      }\n",
              "      const blob = new Blob(buffers, {type: 'application/binary'});\n",
              "      const a = document.createElement('a');\n",
              "      a.href = window.URL.createObjectURL(blob);\n",
              "      a.download = filename;\n",
              "      div.appendChild(a);\n",
              "      a.click();\n",
              "      div.remove();\n",
              "    }\n",
              "  "
            ],
            "text/plain": [
              "<IPython.core.display.Javascript object>"
            ]
          },
          "metadata": {
            "tags": []
          }
        },
        {
          "output_type": "display_data",
          "data": {
            "application/javascript": [
              "download(\"download_02942fa0-4d39-4b6b-a519-4d82725b4462\", \"tweetsekolah_offline.csv\", 4254657)"
            ],
            "text/plain": [
              "<IPython.core.display.Javascript object>"
            ]
          },
          "metadata": {
            "tags": []
          }
        }
      ]
    }
  ]
}